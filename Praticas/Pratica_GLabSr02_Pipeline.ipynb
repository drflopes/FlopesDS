{
  "nbformat": 4,
  "nbformat_minor": 0,
  "metadata": {
    "colab": {
      "name": "Pratica_GLabSr02_Pipeline.ipynb",
      "provenance": [],
      "collapsed_sections": [],
      "authorship_tag": "ABX9TyPOFzVxkiSd+KIgFUqJyNyt",
      "include_colab_link": true
    },
    "kernelspec": {
      "name": "python3",
      "display_name": "Python 3"
    },
    "language_info": {
      "name": "python"
    }
  },
  "cells": [
    {
      "cell_type": "markdown",
      "metadata": {
        "id": "view-in-github",
        "colab_type": "text"
      },
      "source": [
        "<a href=\"https://colab.research.google.com/github/drflopes/FlopesDS/blob/main/Praticas/Pratica_GLabSr02_Pipeline.ipynb\" target=\"_parent\"><img src=\"https://colab.research.google.com/assets/colab-badge.svg\" alt=\"Open In Colab\"/></a>"
      ]
    },
    {
      "cell_type": "markdown",
      "metadata": {
        "id": "K85K6EGnhlIY"
      },
      "source": [
        "**Prática 2**\n",
        "\n",
        "Montando um Pipeline com dados da Bolsa de Valores.\n",
        "Aqui vamos usar a biblioteca yfinance para fazer download dos dados históricos."
      ]
    },
    {
      "cell_type": "markdown",
      "metadata": {
        "id": "oC8mJy0hoUHD"
      },
      "source": [
        "# New Section"
      ]
    },
    {
      "cell_type": "markdown",
      "metadata": {
        "id": "l3-E5vSRmqTE"
      },
      "source": [
        "-------------------------\n",
        "Instalando a biblioteca yfinance, não disponível no Colab"
      ]
    },
    {
      "cell_type": "code",
      "metadata": {
        "colab": {
          "base_uri": "https://localhost:8080/"
        },
        "id": "dIHrBYdRjS1T",
        "outputId": "f7c080d7-c48f-456b-c08b-35400e22fa49"
      },
      "source": [
        "# pip é um comando do SO e, para rodar no Colab, é necessário utilizar uma magicfunction, no caso \"!\"\n",
        "!pip install yfinance"
      ],
      "execution_count": 1,
      "outputs": [
        {
          "output_type": "stream",
          "text": [
            "Collecting yfinance\n",
            "  Downloading https://files.pythonhosted.org/packages/5e/4e/88d31f5509edcbc51bcbb7eeae72516b17ada1bc2ad5b496e2d05d62c696/yfinance-0.1.60.tar.gz\n",
            "Requirement already satisfied: pandas>=0.24 in /usr/local/lib/python3.7/dist-packages (from yfinance) (1.1.5)\n",
            "Requirement already satisfied: numpy>=1.15 in /usr/local/lib/python3.7/dist-packages (from yfinance) (1.19.5)\n",
            "Requirement already satisfied: requests>=2.20 in /usr/local/lib/python3.7/dist-packages (from yfinance) (2.23.0)\n",
            "Requirement already satisfied: multitasking>=0.0.7 in /usr/local/lib/python3.7/dist-packages (from yfinance) (0.0.9)\n",
            "Collecting lxml>=4.5.1\n",
            "\u001b[?25l  Downloading https://files.pythonhosted.org/packages/30/c0/d0526314971fc661b083ab135747dc68446a3022686da8c16d25fcf6ef07/lxml-4.6.3-cp37-cp37m-manylinux2014_x86_64.whl (6.3MB)\n",
            "\u001b[K     |████████████████████████████████| 6.3MB 4.1MB/s \n",
            "\u001b[?25hRequirement already satisfied: python-dateutil>=2.7.3 in /usr/local/lib/python3.7/dist-packages (from pandas>=0.24->yfinance) (2.8.1)\n",
            "Requirement already satisfied: pytz>=2017.2 in /usr/local/lib/python3.7/dist-packages (from pandas>=0.24->yfinance) (2018.9)\n",
            "Requirement already satisfied: urllib3!=1.25.0,!=1.25.1,<1.26,>=1.21.1 in /usr/local/lib/python3.7/dist-packages (from requests>=2.20->yfinance) (1.24.3)\n",
            "Requirement already satisfied: chardet<4,>=3.0.2 in /usr/local/lib/python3.7/dist-packages (from requests>=2.20->yfinance) (3.0.4)\n",
            "Requirement already satisfied: certifi>=2017.4.17 in /usr/local/lib/python3.7/dist-packages (from requests>=2.20->yfinance) (2021.5.30)\n",
            "Requirement already satisfied: idna<3,>=2.5 in /usr/local/lib/python3.7/dist-packages (from requests>=2.20->yfinance) (2.10)\n",
            "Requirement already satisfied: six>=1.5 in /usr/local/lib/python3.7/dist-packages (from python-dateutil>=2.7.3->pandas>=0.24->yfinance) (1.15.0)\n",
            "Building wheels for collected packages: yfinance\n",
            "  Building wheel for yfinance (setup.py) ... \u001b[?25l\u001b[?25hdone\n",
            "  Created wheel for yfinance: filename=yfinance-0.1.60-py2.py3-none-any.whl size=23819 sha256=f3646f0c597fcefac48912a769b5b8a7b314adde19405d5f0b665d76cfd13c85\n",
            "  Stored in directory: /root/.cache/pip/wheels/f0/be/a4/846f02c5985562250917b0ab7b33fff737c8e6e8cd5209aa3b\n",
            "Successfully built yfinance\n",
            "Installing collected packages: lxml, yfinance\n",
            "  Found existing installation: lxml 4.2.6\n",
            "    Uninstalling lxml-4.2.6:\n",
            "      Successfully uninstalled lxml-4.2.6\n",
            "Successfully installed lxml-4.6.3 yfinance-0.1.60\n"
          ],
          "name": "stdout"
        }
      ]
    },
    {
      "cell_type": "code",
      "metadata": {
        "id": "m-yejkA5ez6K"
      },
      "source": [
        "from pandas_datareader import data as pdr\n",
        "from datetime import datetime as dt\n",
        "import yfinance as yf\n",
        "yf.pdr_override()\n",
        "import pandas as pd\n"
      ],
      "execution_count": 2,
      "outputs": []
    },
    {
      "cell_type": "markdown",
      "metadata": {
        "id": "A9kbWB-4hHx0"
      },
      "source": [
        "Criamos um vetor com os Tickers que vamos utilizar - A lista pode ser alterada"
      ]
    },
    {
      "cell_type": "code",
      "metadata": {
        "colab": {
          "base_uri": "https://localhost:8080/"
        },
        "id": "M2gTvjfihI6m",
        "outputId": "26d86150-d75b-45e3-dd30-74e691b3a159"
      },
      "source": [
        "ticker_list=['DJIA', 'DOW', 'LB', 'EXPE', 'PXD', 'MCHP', 'CRM', 'JEC' , 'NRG', 'HFC', 'NOW']\n",
        "today = dt.today()\n",
        "\n",
        "print(today)\n",
        "print(ticker_list)"
      ],
      "execution_count": 3,
      "outputs": [
        {
          "output_type": "stream",
          "text": [
            "2021-07-07 17:57:38.170479\n",
            "['DJIA', 'DOW', 'LB', 'EXPE', 'PXD', 'MCHP', 'CRM', 'JEC', 'NRG', 'HFC', 'NOW']\n"
          ],
          "name": "stdout"
        }
      ]
    },
    {
      "cell_type": "markdown",
      "metadata": {
        "id": "bFG7CbE4hQNp"
      },
      "source": [
        "Você pode selecionar um período de coleta"
      ]
    },
    {
      "cell_type": "code",
      "metadata": {
        "id": "jxFv-2s8hRad"
      },
      "source": [
        "start_date=dt(2019, 1, 1)\n",
        "end_date=dt(2019, 12, 30)\n",
        "#start_date=today\n",
        "#end_date=today\n",
        "\n",
        "files=[]\n",
        "\n",
        "def getData(ticker):\n",
        "  print(ticker)\n",
        "  data = pdr.get_data_yahoo(ticker, start=start_date, end=end_date)\n",
        "  dataname= ticker+'_'+str(end_date)\n",
        "  print(dataname)\n",
        "  files.append(dataname)\n",
        "  SaveData(data, dataname)\n",
        "  "
      ],
      "execution_count": 4,
      "outputs": []
    },
    {
      "cell_type": "code",
      "metadata": {
        "colab": {
          "base_uri": "https://localhost:8080/"
        },
        "id": "9-kMBgtPobTW",
        "outputId": "5a546f6c-3039-4e75-b394-5200b3307901"
      },
      "source": [
        "print(files)\n",
        "print(start_date)\n",
        "print(end_date)\n",
        "\n",
        "\n",
        "!ls"
      ],
      "execution_count": 5,
      "outputs": [
        {
          "output_type": "stream",
          "text": [
            "[]\n",
            "2019-01-01 00:00:00\n",
            "2019-12-30 00:00:00\n",
            "sample_data\n"
          ],
          "name": "stdout"
        }
      ]
    },
    {
      "cell_type": "markdown",
      "metadata": {
        "id": "P5H8DB7NhWNW"
      },
      "source": [
        "Esta é uma função (UDF) que vai gerar um arquivo CSV na pasta corrente\n"
      ]
    },
    {
      "cell_type": "code",
      "metadata": {
        "id": "GAa81le3hXLt"
      },
      "source": [
        "def SaveData(df, filename):\n",
        "  df.to_csv('./'+filename+'.csv')\n"
      ],
      "execution_count": 6,
      "outputs": []
    },
    {
      "cell_type": "markdown",
      "metadata": {
        "id": "heTrJR_9hcQl"
      },
      "source": [
        "Este loop irá vai criar um arquivo para cada Ticker da lista, com os dados do Dataframe"
      ]
    },
    {
      "cell_type": "code",
      "metadata": {
        "id": "aDV9OBvthamD"
      },
      "source": [
        "\n",
        "for tik in ticker_list:\n",
        "  print(tik)\n",
        "  getData(tik)\n",
        "\n",
        "\n",
        "for i in range(0,11):\n",
        "  df1= pd.read_csv('./'+ str(files[i])+'.csv')\n",
        "  print (df1.head())"
      ],
      "execution_count": null,
      "outputs": []
    },
    {
      "cell_type": "markdown",
      "metadata": {
        "id": "6VGl-XyRm9AE"
      },
      "source": [
        "**Para saber mais:**\n",
        "\n",
        "Sobre a biblioteca yfinance consulte https://pypi.org/project/yfinance/\n",
        "\n",
        "sobre magic functions consulte: https://ipython.readthedocs.io/en/stable/interactive/magics.html#magic-lsmagic\n",
        "\n",
        "\n"
      ]
    }
  ]
}