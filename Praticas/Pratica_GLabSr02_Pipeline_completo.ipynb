{
  "nbformat": 4,
  "nbformat_minor": 0,
  "metadata": {
    "colab": {
      "name": "Pratica_GLabSr02_Pipeline_completo.ipynb",
      "provenance": [],
      "collapsed_sections": [],
      "authorship_tag": "ABX9TyN76sxzER30WOULO8xKO1kz",
      "include_colab_link": true
    },
    "kernelspec": {
      "name": "python3",
      "display_name": "Python 3"
    },
    "language_info": {
      "name": "python"
    }
  },
  "cells": [
    {
      "cell_type": "markdown",
      "metadata": {
        "id": "view-in-github",
        "colab_type": "text"
      },
      "source": [
        "<a href=\"https://colab.research.google.com/github/drflopes/FlopesDS/blob/main/Praticas/Pratica_GLabSr02_Pipeline_completo.ipynb\" target=\"_parent\"><img src=\"https://colab.research.google.com/assets/colab-badge.svg\" alt=\"Open In Colab\"/></a>"
      ]
    },
    {
      "cell_type": "markdown",
      "metadata": {
        "id": "K85K6EGnhlIY"
      },
      "source": [
        "**Prática 2**\n",
        "\n",
        "**Neste script trabalharemos com um único arq.csv**\n",
        "\n",
        "Montando um Pipeline com dados da Bolsa de Valores.\n",
        "Aqui vamos usar a biblioteca yfinance para fazer download dos dados históricos."
      ]
    },
    {
      "cell_type": "markdown",
      "metadata": {
        "id": "l3-E5vSRmqTE"
      },
      "source": [
        "-------------------------\n",
        "Instalando a biblioteca yfinance, não disponível no Colab ou SageMaker"
      ]
    },
    {
      "cell_type": "code",
      "metadata": {
        "colab": {
          "base_uri": "https://localhost:8080/"
        },
        "id": "dIHrBYdRjS1T",
        "outputId": "d955404a-c01d-4832-a359-bcd170552c7d"
      },
      "source": [
        "# pip é um comando do SO/Linux e, para rodar no Jupyter/Notebook, é necessário utilizar uma magicfunction, no caso \"!\"\n",
        "\n",
        "!pip install pandas_datareader\n",
        "!pip install yfinance"
      ],
      "execution_count": 4,
      "outputs": [
        {
          "output_type": "stream",
          "text": [
            "Requirement already satisfied: pandas_datareader in /usr/local/lib/python3.7/dist-packages (0.9.0)\n",
            "Requirement already satisfied: lxml in /usr/local/lib/python3.7/dist-packages (from pandas_datareader) (4.2.6)\n",
            "Requirement already satisfied: requests>=2.19.0 in /usr/local/lib/python3.7/dist-packages (from pandas_datareader) (2.23.0)\n",
            "Requirement already satisfied: pandas>=0.23 in /usr/local/lib/python3.7/dist-packages (from pandas_datareader) (1.1.5)\n",
            "Requirement already satisfied: certifi>=2017.4.17 in /usr/local/lib/python3.7/dist-packages (from requests>=2.19.0->pandas_datareader) (2021.5.30)\n",
            "Requirement already satisfied: chardet<4,>=3.0.2 in /usr/local/lib/python3.7/dist-packages (from requests>=2.19.0->pandas_datareader) (3.0.4)\n",
            "Requirement already satisfied: urllib3!=1.25.0,!=1.25.1,<1.26,>=1.21.1 in /usr/local/lib/python3.7/dist-packages (from requests>=2.19.0->pandas_datareader) (1.24.3)\n",
            "Requirement already satisfied: idna<3,>=2.5 in /usr/local/lib/python3.7/dist-packages (from requests>=2.19.0->pandas_datareader) (2.10)\n",
            "Requirement already satisfied: python-dateutil>=2.7.3 in /usr/local/lib/python3.7/dist-packages (from pandas>=0.23->pandas_datareader) (2.8.1)\n",
            "Requirement already satisfied: numpy>=1.15.4 in /usr/local/lib/python3.7/dist-packages (from pandas>=0.23->pandas_datareader) (1.19.5)\n",
            "Requirement already satisfied: pytz>=2017.2 in /usr/local/lib/python3.7/dist-packages (from pandas>=0.23->pandas_datareader) (2018.9)\n",
            "Requirement already satisfied: six>=1.5 in /usr/local/lib/python3.7/dist-packages (from python-dateutil>=2.7.3->pandas>=0.23->pandas_datareader) (1.15.0)\n",
            "Collecting yfinance\n",
            "  Downloading https://files.pythonhosted.org/packages/79/bd/d64719da8f5367f4d8b16e83507fa1d90942f433f748a4cf3ed7aa515d14/yfinance-0.1.63.tar.gz\n",
            "Requirement already satisfied: pandas>=0.24 in /usr/local/lib/python3.7/dist-packages (from yfinance) (1.1.5)\n",
            "Requirement already satisfied: numpy>=1.15 in /usr/local/lib/python3.7/dist-packages (from yfinance) (1.19.5)\n",
            "Requirement already satisfied: requests>=2.20 in /usr/local/lib/python3.7/dist-packages (from yfinance) (2.23.0)\n",
            "Requirement already satisfied: multitasking>=0.0.7 in /usr/local/lib/python3.7/dist-packages (from yfinance) (0.0.9)\n",
            "Collecting lxml>=4.5.1\n",
            "\u001b[?25l  Downloading https://files.pythonhosted.org/packages/30/c0/d0526314971fc661b083ab135747dc68446a3022686da8c16d25fcf6ef07/lxml-4.6.3-cp37-cp37m-manylinux2014_x86_64.whl (6.3MB)\n",
            "\u001b[K     |████████████████████████████████| 6.3MB 3.9MB/s \n",
            "\u001b[?25hRequirement already satisfied: pytz>=2017.2 in /usr/local/lib/python3.7/dist-packages (from pandas>=0.24->yfinance) (2018.9)\n",
            "Requirement already satisfied: python-dateutil>=2.7.3 in /usr/local/lib/python3.7/dist-packages (from pandas>=0.24->yfinance) (2.8.1)\n",
            "Requirement already satisfied: idna<3,>=2.5 in /usr/local/lib/python3.7/dist-packages (from requests>=2.20->yfinance) (2.10)\n",
            "Requirement already satisfied: chardet<4,>=3.0.2 in /usr/local/lib/python3.7/dist-packages (from requests>=2.20->yfinance) (3.0.4)\n",
            "Requirement already satisfied: certifi>=2017.4.17 in /usr/local/lib/python3.7/dist-packages (from requests>=2.20->yfinance) (2021.5.30)\n",
            "Requirement already satisfied: urllib3!=1.25.0,!=1.25.1,<1.26,>=1.21.1 in /usr/local/lib/python3.7/dist-packages (from requests>=2.20->yfinance) (1.24.3)\n",
            "Requirement already satisfied: six>=1.5 in /usr/local/lib/python3.7/dist-packages (from python-dateutil>=2.7.3->pandas>=0.24->yfinance) (1.15.0)\n",
            "Building wheels for collected packages: yfinance\n",
            "  Building wheel for yfinance (setup.py) ... \u001b[?25l\u001b[?25hdone\n",
            "  Created wheel for yfinance: filename=yfinance-0.1.63-py2.py3-none-any.whl size=23919 sha256=edbcf5ffbfd708605dc7194936617109de4753535fa3eafab1e9b3e126aae088\n",
            "  Stored in directory: /root/.cache/pip/wheels/fe/a0/79/b73d4a0c535b421b88fc7b393936b371fabbfeaf979eca4050\n",
            "Successfully built yfinance\n",
            "Installing collected packages: lxml, yfinance\n",
            "  Found existing installation: lxml 4.2.6\n",
            "    Uninstalling lxml-4.2.6:\n",
            "      Successfully uninstalled lxml-4.2.6\n",
            "Successfully installed lxml-4.6.3 yfinance-0.1.63\n"
          ],
          "name": "stdout"
        }
      ]
    },
    {
      "cell_type": "code",
      "metadata": {
        "id": "m-yejkA5ez6K"
      },
      "source": [
        "import pandas as pd\n",
        "from pandas_datareader import data as pdr\n",
        "from datetime import datetime as dt\n",
        "import yfinance as yf\n",
        "\n",
        "# Função seguinte sobrescreve os métodos do datareader com os métodos do yfinance\n",
        "yf.pdr_override()\n"
      ],
      "execution_count": 5,
      "outputs": []
    },
    {
      "cell_type": "markdown",
      "metadata": {
        "id": "A9kbWB-4hHx0"
      },
      "source": [
        "Criamos um vetor com os Tickers que vamos utilizar - A lista pode ser alterada:"
      ]
    },
    {
      "cell_type": "code",
      "metadata": {
        "colab": {
          "base_uri": "https://localhost:8080/"
        },
        "id": "M2gTvjfihI6m",
        "outputId": "8a218dcd-8a88-4621-ec9c-8287e93e36f6"
      },
      "source": [
        "#ticker_list=['DJIA', 'DOW', 'LB', 'EXPE', 'PXD', 'MCHP', 'CRM', 'JEC' , 'NRG', 'HFC', 'NOW']\n",
        "ticker_list=['SPY', 'DOW', 'LB']\n",
        "\n",
        "#criando variavel com a data de hoje.\n",
        "today = dt.today()\n",
        "\n",
        "print(today)\n",
        "print(str(today)[0:19])\n",
        "print(ticker_list)\n"
      ],
      "execution_count": 6,
      "outputs": [
        {
          "output_type": "stream",
          "text": [
            "2021-07-12 18:22:16.258852\n",
            "2021-07-12 18:22:16\n",
            "['SPY', 'DOW', 'LB']\n"
          ],
          "name": "stdout"
        }
      ]
    },
    {
      "cell_type": "markdown",
      "metadata": {
        "id": "bFG7CbE4hQNp"
      },
      "source": [
        "Você pode usar a data de hoje ou selecionar um período de coleta:\n",
        "Também vamos criar uma UDF para salvar arquivos csv, um para cada Ticker\n"
      ]
    },
    {
      "cell_type": "code",
      "metadata": {
        "id": "jxFv-2s8hRad"
      },
      "source": [
        "#start_date=dt(2019, 1, 1)\n",
        "#end_date=dt(2019, 12, 30)\n",
        "start_date=today\n",
        "end_date=today\n",
        "\n",
        "\"\"\" \n",
        "Vamos criar uma lista (files), para compor os nomes dos arquivos \n",
        "considerando tickers cadastrados em ticker_list e data_end\n",
        "\"\"\"\n",
        "\n",
        "files=[]\n",
        "\n",
        "def getData(ticker):\n",
        "  print(ticker)\n",
        "  data = pdr.get_data_yahoo(ticker, start=start_date, end=end_date)\n",
        "  data['Ticker'] = ticker\n",
        "  dataname= ticker+'_'+str(end_date)[0:19]\n",
        "  print(dataname)\n",
        "  files.append(dataname)\n",
        "  SaveData(data, dataname)\n",
        "  "
      ],
      "execution_count": 7,
      "outputs": []
    },
    {
      "cell_type": "code",
      "metadata": {
        "colab": {
          "base_uri": "https://localhost:8080/"
        },
        "id": "9-kMBgtPobTW",
        "outputId": "23cb2d2d-cb1a-4257-dcc2-5ee7fd9b890e"
      },
      "source": [
        "# vamos criar uma pasta Tickers com o comando SO/Linux mkdir\n",
        "\n",
        "!ls\n",
        "!mkdir tickers"
      ],
      "execution_count": 8,
      "outputs": [
        {
          "output_type": "stream",
          "text": [
            "sample_data\n"
          ],
          "name": "stdout"
        }
      ]
    },
    {
      "cell_type": "code",
      "metadata": {
        "id": "Mt7W8I8sJvS6",
        "colab": {
          "base_uri": "https://localhost:8080/"
        },
        "outputId": "120e2cbd-249d-48c1-e399-adc37a01093c"
      },
      "source": [
        "#Para verificar se o Folder existe, senão, criamos...\n",
        "from pathlib import Path\n",
        "import os.path\n",
        "\n",
        "p = Path('/content/Tickers')\n",
        "if not p.exists():\n",
        "  !mkdir tickers\n"
      ],
      "execution_count": 9,
      "outputs": [
        {
          "output_type": "stream",
          "text": [
            "mkdir: cannot create directory ‘tickers’: File exists\n"
          ],
          "name": "stdout"
        }
      ]
    },
    {
      "cell_type": "markdown",
      "metadata": {
        "id": "P5H8DB7NhWNW"
      },
      "source": [
        "Esta é uma função (UDF) que vai gerar um arquivo CSV na pasta corrente\n",
        "Ela será chamada dentro da função getData que criamos no passo anterior."
      ]
    },
    {
      "cell_type": "code",
      "metadata": {
        "id": "GAa81le3hXLt"
      },
      "source": [
        "def SaveData(df, filename):\n",
        "  #df.to_csv('/content/tickers/'+filename+'.csv')\n",
        "  #df.to_csv('/content/tickers/acumulado.csv', mode='a', header=True)\n",
        "  if (os.path.exists('/content/tickers/acumulado.csv')): \n",
        "    df.to_csv('/content/tickers/acumulado.csv', mode='a', header=False)\n",
        "  else:\n",
        "    df.to_csv('/content/tickers/acumulado.csv', mode='a', header=True)\n"
      ],
      "execution_count": 10,
      "outputs": []
    },
    {
      "cell_type": "markdown",
      "metadata": {
        "id": "heTrJR_9hcQl"
      },
      "source": [
        "Este loop irá vai criar um arquivo para cada Ticker da lista, com os dados do Dataframe"
      ]
    },
    {
      "cell_type": "code",
      "metadata": {
        "id": "aDV9OBvthamD",
        "colab": {
          "base_uri": "https://localhost:8080/"
        },
        "outputId": "c026b3d3-88cf-407d-a62d-4b6d775a81b3"
      },
      "source": [
        "#for i in range(0,11):\n",
        "#  df1= pd.read_csv('content/tickers/'+ str(files[i])+'.csv')\n",
        "#  print (df1.head())\n",
        "\n",
        "\"\"\"\n",
        "Na versão original o script criava um arquivo para cada ticker,\n",
        "o For abaixo chamará o a função getData com as alterações\n",
        "já realizadas para criar e/ou armazenar em um só arquivo\n",
        "acumulado.csv\n",
        "\n",
        "Usando o ticker_list no for, deixamos o código mais organizado e \n",
        "inteligente, o numero de iterações é ajustado conforme \n",
        "a quantidade de parâmetros da lista, \n",
        "\"\"\"\n",
        "\n",
        "for tik in ticker_list:\n",
        "  print(tik)\n",
        "  getData(tik)\n"
      ],
      "execution_count": 11,
      "outputs": [
        {
          "output_type": "stream",
          "text": [
            "SPY\n",
            "SPY\n",
            "[*********************100%***********************]  1 of 1 completed\n",
            "SPY_2021-07-12 18:22:16\n",
            "DOW\n",
            "DOW\n",
            "[*********************100%***********************]  1 of 1 completed\n",
            "DOW_2021-07-12 18:22:16\n",
            "LB\n",
            "LB\n",
            "[*********************100%***********************]  1 of 1 completed\n",
            "LB_2021-07-12 18:22:16\n"
          ],
          "name": "stdout"
        }
      ]
    },
    {
      "cell_type": "code",
      "metadata": {
        "colab": {
          "base_uri": "https://localhost:8080/"
        },
        "id": "DeEUO3ZsLtqv",
        "outputId": "f69ef9c6-626d-43cb-dd16-832eba22cbe1"
      },
      "source": [
        "#Criar uma coluna nova e calcular o indicador....\n",
        "\n",
        "\n",
        "#novo dataframe\n",
        "df_acum = pd.read_csv('/content/tickers/acumulado.csv')\n",
        "\n",
        "df_acum.head()\n",
        "print(df_acum.describe())\n",
        "\n",
        "#Cálculo da média da coluna Volume\n",
        "volmedia = df_acum['Volume'].mean()\n",
        "print(volmedia)\n",
        "\n",
        "#Criando nova coluna para receber o indicador\n",
        "df_acummed = df_acum.assign(Indicador=0)\n",
        "\n",
        "print(df_acummed.head())\n",
        "\n",
        "#Populando a coluna nova com o valor do indicador\n",
        "df_acummed.loc[df_acummed.Volume>=volmedia,'Indicador']=1\n",
        "df_acummed.loc[df_acummed.Volume<volmedia,'Indicador']=0\n",
        "\n",
        "\n",
        "print(df_acummed.head())\n"
      ],
      "execution_count": 56,
      "outputs": [
        {
          "output_type": "stream",
          "text": [
            "             Open        High         Low       Close   Adj Close        Volume\n",
            "count    3.000000    3.000000    3.000000    3.000000    3.000000  3.000000e+00\n",
            "mean   190.816664  192.736669  190.166668  192.333332  192.333332  1.003886e+07\n",
            "std    211.924899  211.557057  212.084818  211.878250  211.878250  1.286247e+07\n",
            "min     62.560001   63.459999   61.980000   63.450001   63.450001  1.936966e+06\n",
            "25%     68.510000   70.665001   67.765001   70.065001   70.065001  2.623284e+06\n",
            "50%     74.459999   77.870003   73.550003   76.680000   76.680000  3.309601e+06\n",
            "75%    254.944996  257.375004  254.260002  256.774998  256.774998  1.408980e+07\n",
            "max    435.429993  436.880005  434.970001  436.869995  436.869995  2.487000e+07\n",
            "10038857.333333334\n",
            "         Date        Open        High  ...    Volume  Ticker  Indicador\n",
            "0  2021-07-12  435.429993  436.880005  ...  24870005     SPY          0\n",
            "1  2021-07-12   62.560001   63.459999  ...   1936966     DOW          0\n",
            "2  2021-07-12   74.459999   77.870003  ...   3309601      LB          0\n",
            "\n",
            "[3 rows x 9 columns]\n",
            "         Date        Open        High  ...    Volume  Ticker  Indicador\n",
            "0  2021-07-12  435.429993  436.880005  ...  24870005     SPY          1\n",
            "1  2021-07-12   62.560001   63.459999  ...   1936966     DOW          0\n",
            "2  2021-07-12   74.459999   77.870003  ...   3309601      LB          0\n",
            "\n",
            "[3 rows x 9 columns]\n"
          ],
          "name": "stdout"
        }
      ]
    },
    {
      "cell_type": "code",
      "metadata": {
        "colab": {
          "base_uri": "https://localhost:8080/"
        },
        "id": "ilL4zN6c93Ko",
        "outputId": "62f87621-fbf2-4ba3-e12e-a039a5506cd8"
      },
      "source": [
        "df = pd.DataFrame({'c1': [10, 11, 12], 'c2': [100, 110, 120]})\n",
        "\n",
        "for index, row in df.iterrows():\n",
        "    print(row['c1'], row['c2'])"
      ],
      "execution_count": 28,
      "outputs": [
        {
          "output_type": "stream",
          "text": [
            "10 100\n",
            "11 110\n",
            "12 120\n"
          ],
          "name": "stdout"
        }
      ]
    },
    {
      "cell_type": "markdown",
      "metadata": {
        "id": "6VGl-XyRm9AE"
      },
      "source": [
        "**Para saber mais:**\n",
        "\n",
        "Sobre a biblioteca yfinance consulte https://pypi.org/project/yfinance/\n",
        "\n",
        "sobre magic functions consulte: https://ipython.readthedocs.io/en/stable/interactive/magics.html#magic-lsmagic\n",
        "\n",
        "\n"
      ]
    },
    {
      "cell_type": "code",
      "metadata": {
        "colab": {
          "base_uri": "https://localhost:8080/"
        },
        "id": "tMEM75rI8H0l",
        "outputId": "82baf77f-df08-4f66-c776-4d87ba745cbb"
      },
      "source": [
        "import os.path\n",
        "if(os.path.isfile('/content/sample_data/anscombe.json')):\n",
        "  print(\"O arquivo existe\")\n",
        "else:\n",
        "  print(\"O arquivo não existe\")"
      ],
      "execution_count": 3,
      "outputs": [
        {
          "output_type": "stream",
          "text": [
            "O arquivo existe\n"
          ],
          "name": "stdout"
        }
      ]
    }
  ]
}