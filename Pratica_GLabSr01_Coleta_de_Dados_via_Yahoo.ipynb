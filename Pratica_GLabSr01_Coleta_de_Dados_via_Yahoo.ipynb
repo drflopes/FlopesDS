{
  "nbformat": 4,
  "nbformat_minor": 0,
  "metadata": {
    "colab": {
      "name": "Pratica GLabSr01 - Coleta de Dados via Yahoo.ipynb",
      "provenance": [],
      "collapsed_sections": [],
      "authorship_tag": "ABX9TyP9L8S2JuVSK3gDPgBa7BVc",
      "include_colab_link": true
    },
    "kernelspec": {
      "name": "python3",
      "display_name": "Python 3"
    },
    "language_info": {
      "name": "python"
    }
  },
  "cells": [
    {
      "cell_type": "markdown",
      "metadata": {
        "id": "view-in-github",
        "colab_type": "text"
      },
      "source": [
        "<a href=\"https://colab.research.google.com/github/drflopes/FlopesDS/blob/main/Pratica_GLabSr01_Coleta_de_Dados_via_Yahoo.ipynb\" target=\"_parent\"><img src=\"https://colab.research.google.com/assets/colab-badge.svg\" alt=\"Open In Colab\"/></a>"
      ]
    },
    {
      "cell_type": "markdown",
      "metadata": {
        "id": "VvVQa3m3x53a"
      },
      "source": [
        "Esta prática utiliza a biblioteca Pandas_datareade para importar dados da Bolsa de valores utilizando a função get_data_yahoo\n",
        "\n",
        "----------------------------\n",
        "by Flopes: 2021/06\n",
        "----------------------------"
      ]
    },
    {
      "cell_type": "markdown",
      "metadata": {
        "id": "olx-d8Wosfva"
      },
      "source": [
        "Importando Bibliotecas:"
      ]
    },
    {
      "cell_type": "code",
      "metadata": {
        "id": "nIMb4HVNcS9L"
      },
      "source": [
        "import pandas_datareader as pdr\n",
        "import datetime as dt\n",
        " "
      ],
      "execution_count": 9,
      "outputs": []
    },
    {
      "cell_type": "code",
      "metadata": {
        "id": "uco07i3Jsn4s"
      },
      "source": [
        "dtAno = 2020\n",
        "\n",
        "vale3 = pdr.get_data_yahoo('PETR4.SA',\n",
        "                          start=dt.datetime(dtAno,1,1),\n",
        "                          end=dt.datetime(dtAno,12,30))"
      ],
      "execution_count": 18,
      "outputs": []
    },
    {
      "cell_type": "code",
      "metadata": {
        "colab": {
          "base_uri": "https://localhost:8080/"
        },
        "id": "GCW3wovDdA5A",
        "outputId": "b4ed987c-758d-4df8-f63f-1702f0c37fd9"
      },
      "source": [
        "print(vale3)\n"
      ],
      "execution_count": 19,
      "outputs": [
        {
          "output_type": "stream",
          "text": [
            "                 High        Low       Open      Close      Volume  Adj Close\n",
            "Date                                                                         \n",
            "2020-01-02  30.700001  30.309999  30.510000  30.700001  37774500.0  29.698208\n",
            "2020-01-03  31.240000  30.450001  30.879999  30.450001  71595600.0  29.456367\n",
            "2020-01-06  30.940001  29.950001  30.430000  30.809999  81844000.0  29.804619\n",
            "2020-01-07  30.879999  30.469999  30.820000  30.690001  32822000.0  29.688534\n",
            "2020-01-08  30.770000  30.240000  30.690001  30.500000  48215600.0  29.504732\n",
            "...               ...        ...        ...        ...         ...        ...\n",
            "2020-12-22  27.469999  27.049999  27.200001  27.280001  46513200.0  26.391766\n",
            "2020-12-23  28.250000  27.350000  27.430000  27.950001  49038900.0  27.039951\n",
            "2020-12-28  28.520000  28.180000  28.360001  28.180000  36313300.0  27.262461\n",
            "2020-12-29  28.430000  27.990000  28.379999  28.270000  29891100.0  27.349531\n",
            "2020-12-30  28.490000  28.200001  28.350000  28.340000  36968200.0  27.417252\n",
            "\n",
            "[247 rows x 6 columns]\n"
          ],
          "name": "stdout"
        }
      ]
    },
    {
      "cell_type": "markdown",
      "metadata": {
        "id": "qYQ1r5kCtwoh"
      },
      "source": [
        "Veja mais sobre **pandas_datareader**\n",
        " em: \n",
        " \n",
        "https://readthedocs.org/projects/pandas-datareader/downloads/pdf/latest/"
      ]
    },
    {
      "cell_type": "markdown",
      "metadata": {
        "id": "Ur1xqCw4tGaX"
      },
      "source": [
        "Veja mais sobre **datetime** em:\n",
        "\n",
        "https://www.w3schools.com/python/python_datetime.asp"
      ]
    },
    {
      "cell_type": "markdown",
      "metadata": {
        "id": "ekaGjo_5w-2Y"
      },
      "source": [
        "Veja mais sobre os Tickers Yahoo em:\n",
        "\n",
        "https://finance.yahoo.com/quote/%5EBVSP/components/\n",
        "\n"
      ]
    }
  ]
}