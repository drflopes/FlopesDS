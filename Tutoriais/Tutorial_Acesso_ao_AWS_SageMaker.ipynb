{
  "nbformat": 4,
  "nbformat_minor": 0,
  "metadata": {
    "colab": {
      "name": "Tutorial - Acesso ao AWS SageMaker.ipynb",
      "provenance": [],
      "authorship_tag": "ABX9TyPGbkDS6AAr+bM8Zt30hrCG",
      "include_colab_link": true
    },
    "kernelspec": {
      "name": "python3",
      "display_name": "Python 3"
    },
    "language_info": {
      "name": "python"
    }
  },
  "cells": [
    {
      "cell_type": "markdown",
      "metadata": {
        "id": "view-in-github",
        "colab_type": "text"
      },
      "source": [
        "<a href=\"https://colab.research.google.com/github/drflopes/FlopesDS/blob/main/Tutoriais/Tutorial_Acesso_ao_AWS_SageMaker.ipynb\" target=\"_parent\"><img src=\"https://colab.research.google.com/assets/colab-badge.svg\" alt=\"Open In Colab\"/></a>"
      ]
    },
    {
      "cell_type": "code",
      "metadata": {
        "id": "twCrTXCf4TSW"
      },
      "source": [
        ""
      ],
      "execution_count": null,
      "outputs": []
    },
    {
      "cell_type": "markdown",
      "metadata": {
        "id": "7ZS65fhe4UYT"
      },
      "source": [
        "**Acessando o serviço Amazon SageMaker.**\n",
        "\n",
        "Acesse a Console AWS pelo link https://aws.amazon.com/pt/?nc1=h_ls\n",
        "\n",
        "É possivel mudar o idioma na opção do menu disponível no canto superior direito da página, se preferir. \n",
        "\n",
        "Clique no botão \"Faça login no console\" localizado no canto superior direito da página (cor laranja).\n"
      ]
    },
    {
      "cell_type": "markdown",
      "metadata": {
        "id": "H-yTbyrw5h-B"
      },
      "source": [
        "-------------------------------\n",
        "Após fazer login na Console de Gerenciamento AWS, pesquise \"SageMaker\" na caixa de busca localizada na parte superior da página."
      ]
    },
    {
      "cell_type": "markdown",
      "metadata": {
        "id": "KUPMyAi7_Cqt"
      },
      "source": [
        "---------------------\n",
        "Clique na opção \"Amazon SageMaker\"\n"
      ]
    },
    {
      "cell_type": "markdown",
      "metadata": {
        "id": "5hobH539R3E9"
      },
      "source": [
        "--------------------------------\n",
        "Na página de abertura do Amazon SageMaker, clique na opção \"Amazon SageMaker Studio\" localizada no menu da lateral esquerda da página."
      ]
    },
    {
      "cell_type": "markdown",
      "metadata": {
        "id": "L8BcWoKIXkog"
      },
      "source": [
        "-------------\n",
        "Na área Conceitos básicos, selecione \"Configuração Padrão\" e o método de autenticação IAM\n",
        "\n",
        "Logo abaixo na área Permissão, vocẽ terá que criar uma nova função de permissão, então, selecione no combo, \"Criar uma nova função\"\n",
        "\n",
        "Uma caixa vai abrir, com título \"Criar uma função do IAM\". mantenha as opções e clique no botão \"Criar Função\" no final da caixa.\n",
        "\n",
        "\n",
        "\n"
      ]
    },
    {
      "cell_type": "markdown",
      "metadata": {
        "id": "6TyBKcchY0bb"
      },
      "source": [
        "---------------------\n",
        "Voltando para as opções de entrada do Amazon SageMaker Studio, você verá que a função IAM fou criada com sucesso - isso servirá para você acessar outros serviços da AWS por maio do SageMaker. Finalize esta etapa clicando no botão \"Enviar\" no final da página."
      ]
    },
    {
      "cell_type": "markdown",
      "metadata": {
        "id": "HLNYoJsRaCA4"
      },
      "source": [
        "------------------------------\n",
        "O SageMaker vai exibir o Painel de controle do SageMaker Studio.\n",
        "Na primeira vez temos que aguardar alguns instantes para o sistema liberar acesso ao Studio (Podemos ver em \"Resumo do Studio\" o status - Pending\", além da faixa azul no topo com a mensagem - Preparação do SageMaker Studio)\n"
      ]
    },
    {
      "cell_type": "markdown",
      "metadata": {
        "id": "-pf6qVPZcEyT"
      },
      "source": [
        "Quando o SageMaker mudar o status para \"Ready\" vamos criar um novo usuário. Clique no botão Adicionar usuário na área logo acima do Resumo do studio.\n",
        "\n",
        "Vocẽ pode utilizar o nome default que a caixa sugere. Escolha a função de execução que vocẽ já havia criado anteriormente. Algo como AmazonSageMaker-ExecutionRole....\n",
        "\n",
        "Clique no botão Enviar para finalizar esta etapa."
      ]
    },
    {
      "cell_type": "markdown",
      "metadata": {
        "id": "zFPYq9jEc8eD"
      },
      "source": [
        "---------------------\n",
        "Voltando ao Painel de controle, clique no link  \"Abrir o Studio\", logo ao lado do usuário recém criado. Aguardamos mais alguns instantes e para ter acesso ao JupyterServer.\n"
      ]
    },
    {
      "cell_type": "markdown",
      "metadata": {
        "id": "0Mbj9MAWd9V9"
      },
      "source": [
        "--------------------\n",
        "Se tudo deu certo, chegamos ao SageMaker Studio. "
      ]
    },
    {
      "cell_type": "markdown",
      "metadata": {
        "id": "2TfJKJaSeW4M"
      },
      "source": [
        "Vamos carregar o arquivo Python notebook disponibilizado para esta prática. Clique no botão Upload Files, disponível entre os ícones, no canto superior esquerdo da página (uma seta apantada para cima).\n",
        "\n",
        "Escolha o arquivo no seu computador e faça o upload.\n",
        "\n",
        "Depois, com o arquivo aberto, clique na opção Kernel/Change kernel e selecione Python 3 (data Science) - esta opção vai carregar algumas bibiotecas utilizadas para Data Science.\n",
        "\n"
      ]
    },
    {
      "cell_type": "markdown",
      "metadata": {
        "id": "jL2507rZgy2U"
      },
      "source": [
        "Agora podemos rodar o script, clicando no botão Run, nos ícones logo acima do código.\n",
        "\n",
        "Neste ambiente, selecionamos e  rodamos uma linha de código por vez. \n",
        "\n",
        "\n",
        "---------------\n",
        "Se chegou até aqui, parabéns! \n"
      ]
    },
    {
      "cell_type": "markdown",
      "metadata": {
        "id": "CkJUdaf4SaVZ"
      },
      "source": [
        "-------------------\n",
        "Para Saber mais sobre o SageMaker, veja em https://docs.aws.amazon.com/pt_br/sagemaker/latest/dg/whatis.html\n"
      ]
    }
  ]
}