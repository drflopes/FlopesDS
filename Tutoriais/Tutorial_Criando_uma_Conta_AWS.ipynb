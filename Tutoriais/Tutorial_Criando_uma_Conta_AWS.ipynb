{
  "nbformat": 4,
  "nbformat_minor": 0,
  "metadata": {
    "colab": {
      "name": "Tutorial - Criando uma Conta AWS.ipynb",
      "provenance": [],
      "authorship_tag": "ABX9TyOkOL991Tla6zED2svFdIz0",
      "include_colab_link": true
    },
    "kernelspec": {
      "name": "python3",
      "display_name": "Python 3"
    },
    "language_info": {
      "name": "python"
    }
  },
  "cells": [
    {
      "cell_type": "markdown",
      "metadata": {
        "id": "view-in-github",
        "colab_type": "text"
      },
      "source": [
        "<a href=\"https://colab.research.google.com/github/drflopes/FlopesDS/blob/main/Tutoriais/Tutorial_Criando_uma_Conta_AWS.ipynb\" target=\"_parent\"><img src=\"https://colab.research.google.com/assets/colab-badge.svg\" alt=\"Open In Colab\"/></a>"
      ]
    },
    {
      "cell_type": "code",
      "metadata": {
        "id": "twCrTXCf4TSW"
      },
      "source": [
        ""
      ],
      "execution_count": null,
      "outputs": []
    },
    {
      "cell_type": "markdown",
      "metadata": {
        "id": "7ZS65fhe4UYT"
      },
      "source": [
        "**Criando uma conta na AWS.**\n",
        "\n",
        "Quando você cria uma Conta do AWS, você recebe uma única identidade de logon que tem acesso completo a todos os Serviços e recursos da conta AWS. Essa identidade é chamada conta Usuário AWS raiz. Fazer login no AWS usando o endereço de e-mail e a senha usados para criar a conta, você terá acesso total a todas os recursos em sua conta.\n",
        "\n",
        "---------------------------\n",
        "\n",
        "Acesse a Console AWS pelo link https://aws.amazon.com/pt/?nc1=h_ls\n",
        "\n",
        "É possivel mudar o idioma na opção do menu disponível no canto superior direito da página, se preferir. \n",
        "\n",
        "Clique no botão \"Faça login no console\" localizado no canto superior direito da página (cor laranja).\n"
      ]
    },
    {
      "cell_type": "markdown",
      "metadata": {
        "id": "H-yTbyrw5h-B"
      },
      "source": [
        "-------------------------------\n",
        "Na nova página, \"Cadastrar-se na AWS, preencha os campos solicitados: email, Senha, Confirmar senha e nome da conta AWS\n",
        "\n",
        "Continue clicando no botão Continuar (etapa 1 de 5)"
      ]
    },
    {
      "cell_type": "markdown",
      "metadata": {
        "id": "KUPMyAi7_Cqt"
      },
      "source": [
        "---------------------\n",
        "Na página seguinte, indique que vocẽ planeja usar a AWS para uso Pessoal\n",
        "\n",
        "Preencha os dados solicitados, seu nome, telefone, país e endereço. Clique no botão Continuar (etapa 2 de 5).\n"
      ]
    },
    {
      "cell_type": "markdown",
      "metadata": {
        "id": "8QoCopbM_3m7"
      },
      "source": [
        "-------------------\n",
        "Etapa 2 de 5 preencha os dados do seu cartão de crédito \n",
        "\n",
        "**Importante! durante o curso, só utilizaremos opções gratuítas.**\n",
        "\n",
        "mas esta etapa é necessária para ativar a conta.\n",
        "Veja a informação lo lado esquerdo da página:\n",
        "\n",
        "*Não cobraremos pelo uso abaixo dos limites de nível gratuito da AWS. Manteremos temporariamente R$3 BRL como transação pendente por 3 a 5 dias para verificar sua identidade.*\n",
        "\n",
        "Clique no botão Verificar e continuar (etapa 3 de 5)\n"
      ]
    },
    {
      "cell_type": "markdown",
      "metadata": {
        "id": "Zy9dMLBSDWNY"
      },
      "source": [
        "----------------\n",
        "Confirmar identidade\n",
        "preencha os dados do seu celular para receber o SMS de confirmação.\n",
        "\n",
        "Preencha o captha e clique no botão logo abaixo. Vocẽ vai receber um SMS com o código de verificação, para inserir na página seguinte.\n",
        "\n",
        "Com o código confirmado, clique no botão para continuar (etapa 4 de 5)\n",
        "\n"
      ]
    },
    {
      "cell_type": "markdown",
      "metadata": {
        "id": "v6BUJk5EEfQu"
      },
      "source": [
        "------------------\n",
        "Nesta página vocẽ fará a opção pelo plano de suporte.\n",
        "\n",
        "Mantenha a opção de Suporte Basic-gratuíto, que é recomendada para novos usuários.\n",
        "\n",
        "Finalize o cadastro colicando no botão Concluir cadastramento, no final da página.\n",
        "\n"
      ]
    },
    {
      "cell_type": "markdown",
      "metadata": {
        "id": "LX93radjFBCt"
      },
      "source": [
        "---------------\n",
        "Se chegou até aqui, parabéns! \n",
        "\n",
        "Agora vocẽ já pode acessar a Console de Gerenciamento AWS.\n"
      ]
    }
  ]
}