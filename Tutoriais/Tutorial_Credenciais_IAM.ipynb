{
  "nbformat": 4,
  "nbformat_minor": 0,
  "metadata": {
    "colab": {
      "name": "Tutorial Credenciais IAM.ipynb",
      "provenance": [],
      "collapsed_sections": [],
      "authorship_tag": "ABX9TyPOKVc2fCAC+fc2AiE1Vd4N",
      "include_colab_link": true
    },
    "kernelspec": {
      "name": "python3",
      "display_name": "Python 3"
    },
    "language_info": {
      "name": "python"
    }
  },
  "cells": [
    {
      "cell_type": "markdown",
      "metadata": {
        "id": "view-in-github",
        "colab_type": "text"
      },
      "source": [
        "<a href=\"https://colab.research.google.com/github/drflopes/FlopesDS/blob/main/Tutoriais/Tutorial_Credenciais_IAM.ipynb\" target=\"_parent\"><img src=\"https://colab.research.google.com/assets/colab-badge.svg\" alt=\"Open In Colab\"/></a>"
      ]
    },
    {
      "cell_type": "markdown",
      "metadata": {
        "id": "krKO0Hv6wAkC"
      },
      "source": [
        "**Criando Credenciais de autenticação no IAM:**\n",
        "\n",
        "\n",
        "1)Acesse o serviço IAM via console.\n",
        "\n",
        "2)No Painel (lado esquerdo), clique na opção Usuário, na janela aberta, clique em adicionar usuários (botão azul).\n",
        "\n",
        "3)Digite o nome do novo usuário (ex. usuarioBotoS3).\n",
        "\n",
        "4)Defina na sequencia, em Tipo de Acesso: \"Acesso programático\" . Isso ativará uma chave de acesso que usaremos depois.\n",
        "\n",
        "5) Clique no botão \"Próximo: Permissões\"\n",
        "\n",
        "6) Na janela \"Definir Permissões\" clique na opção \"Anexar políticas existentes\" para selecionar na lista logo abaixo...\n",
        "\n",
        "7) Pesquise no filtro \"AmazonS3FullAccess\" e, quando encontrar, clique no checkbox ao lado dela. Isso dará permissões completas para este usuário.\n",
        "\n",
        "8) Depois, clique no botão \"Próximo: Tag\" para continuar.\n",
        "\n",
        "9) Vamos pular a etapa de tags e clicar no botão \"Próximo: Revisar\"\n",
        "\n",
        "10) Verifique se estamos com parâmetros ok:\n",
        "Nome de usuário: usuarioBotoS3\n",
        "Tipo de acesso AWS: Acesso programático: com uma chave de acesso \n",
        "Limite de permissões: Limite de permissões não definido\n",
        "\n",
        "Política de permissões: AmazonS3FullAccess\n",
        "\n",
        "11) Clique no botão \"Criar usuário\"\n",
        "\n",
        "12) Na janela seguinte teremos o usuário criado. podemos então fazer o download das chaves que estão no arquivo CSV. (new_user_credentials.csv)\n",
        "\n",
        "13) No Jupyter/SageMaker, vamos criar uma pasta .\n",
        "\n",
        "\n",
        "\n",
        "\n",
        "\n",
        "\n",
        "\n",
        "\n"
      ]
    }
  ]
}