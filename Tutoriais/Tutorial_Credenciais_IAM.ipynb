{
  "nbformat": 4,
  "nbformat_minor": 0,
  "metadata": {
    "colab": {
      "name": "Tutorial Credenciais IAM.ipynb",
      "provenance": [],
      "collapsed_sections": [],
      "authorship_tag": "ABX9TyNHzLctaMWSTtfZ4ZFUPQ2v",
      "include_colab_link": true
    },
    "kernelspec": {
      "name": "python3",
      "display_name": "Python 3"
    },
    "language_info": {
      "name": "python"
    }
  },
  "cells": [
    {
      "cell_type": "markdown",
      "metadata": {
        "id": "view-in-github",
        "colab_type": "text"
      },
      "source": [
        "<a href=\"https://colab.research.google.com/github/drflopes/FlopesDS/blob/main/Tutoriais/Tutorial_Credenciais_IAM.ipynb\" target=\"_parent\"><img src=\"https://colab.research.google.com/assets/colab-badge.svg\" alt=\"Open In Colab\"/></a>"
      ]
    },
    {
      "cell_type": "code",
      "metadata": {
        "id": "A-0Wj0By3PYw"
      },
      "source": [
        ""
      ],
      "execution_count": null,
      "outputs": []
    },
    {
      "cell_type": "markdown",
      "metadata": {
        "id": "bWcU2kOq3QRZ"
      },
      "source": [
        "Acesse o SageMaker via console:"
      ]
    },
    {
      "cell_type": "markdown",
      "metadata": {
        "id": "AvDuC61O3YXQ"
      },
      "source": [
        "Com o Jupyter Notebook aberto, instale o Boto3 "
      ]
    },
    {
      "cell_type": "code",
      "metadata": {
        "colab": {
          "base_uri": "https://localhost:8080/"
        },
        "id": "MexGNoJc4Ew7",
        "outputId": "6d11b58b-629e-498c-a257-136f1f98600b"
      },
      "source": [
        "!pip install Boto3"
      ],
      "execution_count": 1,
      "outputs": [
        {
          "output_type": "stream",
          "text": [
            "Collecting Boto3\n",
            "\u001b[?25l  Downloading https://files.pythonhosted.org/packages/7a/65/c5fa632ca1c243d0f757c09cc4656f361dc1a9555f0b6d442e374f7ca8f6/boto3-1.17.109-py2.py3-none-any.whl (131kB)\n",
            "\u001b[K     |████████████████████████████████| 133kB 6.2MB/s \n",
            "\u001b[?25hCollecting s3transfer<0.5.0,>=0.4.0\n",
            "\u001b[?25l  Downloading https://files.pythonhosted.org/packages/63/d0/693477c688348654ddc21dcdce0817653a294aa43f41771084c25e7ff9c7/s3transfer-0.4.2-py2.py3-none-any.whl (79kB)\n",
            "\u001b[K     |████████████████████████████████| 81kB 7.6MB/s \n",
            "\u001b[?25hCollecting jmespath<1.0.0,>=0.7.1\n",
            "  Downloading https://files.pythonhosted.org/packages/07/cb/5f001272b6faeb23c1c9e0acc04d48eaaf5c862c17709d20e3469c6e0139/jmespath-0.10.0-py2.py3-none-any.whl\n",
            "Collecting botocore<1.21.0,>=1.20.109\n",
            "\u001b[?25l  Downloading https://files.pythonhosted.org/packages/07/53/779ef784d896647f53e629143b5002adee52ea4574aa3dfaa8a9fe322c92/botocore-1.20.109-py2.py3-none-any.whl (7.7MB)\n",
            "\u001b[K     |████████████████████████████████| 7.7MB 32.9MB/s \n",
            "\u001b[?25hCollecting urllib3<1.27,>=1.25.4\n",
            "\u001b[?25l  Downloading https://files.pythonhosted.org/packages/5f/64/43575537846896abac0b15c3e5ac678d787a4021e906703f1766bfb8ea11/urllib3-1.26.6-py2.py3-none-any.whl (138kB)\n",
            "\u001b[K     |████████████████████████████████| 143kB 40.5MB/s \n",
            "\u001b[?25hRequirement already satisfied: python-dateutil<3.0.0,>=2.1 in /usr/local/lib/python3.7/dist-packages (from botocore<1.21.0,>=1.20.109->Boto3) (2.8.1)\n",
            "Requirement already satisfied: six>=1.5 in /usr/local/lib/python3.7/dist-packages (from python-dateutil<3.0.0,>=2.1->botocore<1.21.0,>=1.20.109->Boto3) (1.15.0)\n",
            "\u001b[31mERROR: requests 2.23.0 has requirement urllib3!=1.25.0,!=1.25.1,<1.26,>=1.21.1, but you'll have urllib3 1.26.6 which is incompatible.\u001b[0m\n",
            "\u001b[31mERROR: datascience 0.10.6 has requirement folium==0.2.1, but you'll have folium 0.8.3 which is incompatible.\u001b[0m\n",
            "Installing collected packages: urllib3, jmespath, botocore, s3transfer, Boto3\n",
            "  Found existing installation: urllib3 1.24.3\n",
            "    Uninstalling urllib3-1.24.3:\n",
            "      Successfully uninstalled urllib3-1.24.3\n",
            "Successfully installed Boto3-1.17.109 botocore-1.20.109 jmespath-0.10.0 s3transfer-0.4.2 urllib3-1.26.6\n"
          ],
          "name": "stdout"
        }
      ]
    },
    {
      "cell_type": "markdown",
      "metadata": {
        "id": "8BvoKlPA5_Lq"
      },
      "source": [
        "Você pode verificar seu ambiente (bibliotecas instaladas) com o comando freeze, conforme segue:\n"
      ]
    },
    {
      "cell_type": "code",
      "metadata": {
        "id": "PZKpWTmN5ZIT"
      },
      "source": [
        "#Cria um arquivo com a lista de bibliotecas instaladas\n",
        "!pip freeze > requirements.txt\n",
        "#Instala em um ambiente as bibliotecas, que estão na lista.\n",
        "!pip install -r requirements.txt"
      ],
      "execution_count": 2,
      "outputs": []
    },
    {
      "cell_type": "markdown",
      "metadata": {
        "id": "krKO0Hv6wAkC"
      },
      "source": [
        "**Criando Credenciais de autenticação no IAM:**\n",
        "\n",
        "\n",
        "1)Acesse o serviço IAM via console.\n",
        "\n",
        "2)No Painel (lado esquerdo), clique na opção Usuário, na janela aberta, clique em adicionar usuários (botão azul).\n",
        "\n",
        "3)Digite o nome do novo usuário (ex. usuarioBotoS3).\n",
        "\n",
        "4)Defina na sequencia, em Tipo de Acesso: \"Acesso programático\" . Isso ativará uma chave de acesso que usaremos depois.\n",
        "\n",
        "5) Clique no botão \"Próximo: Permissões\"\n",
        "\n",
        "6) Na janela \"Definir Permissões\" clique na opção \"Anexar políticas existentes\" para selecionar na lista logo abaixo...\n",
        "\n",
        "7) Pesquise no filtro \"AmazonS3FullAccess\" e, quando encontrar, clique no checkbox ao lado dela. Isso dará permissões completas para este usuário.\n",
        "\n",
        "8) Depois, clique no botão \"Próximo: Tag\" para continuar.\n",
        "\n",
        "9) Vamos pular a etapa de tags e clicar no botão \"Próximo: Revisar\"\n",
        "\n",
        "10) Verifique se estamos com parâmetros ok:\n",
        "Nome de usuário: usuarioBotoS3\n",
        "Tipo de acesso AWS: Acesso programático: com uma chave de acesso \n",
        "Limite de permissões: Limite de permissões não definido\n",
        "\n",
        "Política de permissões: AmazonS3FullAccess\n",
        "\n",
        "11) Clique no botão \"Criar usuário\"\n",
        "\n",
        "12) Na janela seguinte teremos o usuário criado. podemos então fazer o download das chaves que estão no arquivo CSV. (new_user_credentials.csv)\n",
        "\n",
        "13) No Jupyter/SageMaker, vamos criar uma pasta .\n",
        "\n",
        "\n",
        "\n",
        "\n",
        "\n",
        "\n",
        "\n",
        "\n"
      ]
    }
  ]
}